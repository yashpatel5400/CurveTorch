{
 "cells": [
  {
   "cell_type": "markdown",
   "id": "dd259a3d",
   "metadata": {
    "colab_type": "text",
    "id": "view-in-github"
   },
   "source": [
    "<a href=\"https://colab.research.google.com/github/yashpatel5400/CurveTorch/blob/main/tutorials/basic_tutorial.ipynb\" target=\"_parent\"><img src=\"https://colab.research.google.com/assets/colab-badge.svg\" alt=\"Open In Colab\"/></a>"
   ]
  },
  {
   "cell_type": "markdown",
   "id": "defe38fd",
   "metadata": {
    "id": "defe38fd"
   },
   "source": [
    "## Overview\n",
    "CurveTorch can be used interchangeably with any other PyTorch optimizer. The only thing that may be different from most optimizers you usually use is the need to pass in the optimizer function closure. This allows the optimizer to access Hessian information during the update step. We will see an example of how to do this further below. Let's start by importing the usual packages:"
   ]
  },
  {
   "cell_type": "code",
   "execution_count": 7,
   "id": "b70e047b",
   "metadata": {
    "id": "b70e047b"
   },
   "outputs": [],
   "source": [
    "import torch\n",
    "import torch.nn as nn\n",
    "import torch.nn.functional as F\n",
    "from torch.optim.lr_scheduler import StepLR\n",
    "from torch.utils.tensorboard import SummaryWriter\n",
    "from torchvision import datasets, transforms, utils\n",
    "\n",
    "import matplotlib.pyplot as plt"
   ]
  },
  {
   "cell_type": "markdown",
   "id": "173d2487",
   "metadata": {
    "id": "173d2487"
   },
   "source": [
    "Let's now continue by importing the CurveSGD package. If you have installed it globally, there is no need to add the `sys.append`:"
   ]
  },
  {
   "cell_type": "code",
   "execution_count": 8,
   "id": "3937b8d3",
   "metadata": {
    "id": "3937b8d3"
   },
   "outputs": [],
   "source": [
    "# hack for importing local library: not necessary if installed globally\n",
    "import sys\n",
    "sys.path.append(\"..\")\n",
    "import curvetorch as curve"
   ]
  },
  {
   "cell_type": "markdown",
   "id": "62cd73a3",
   "metadata": {
    "id": "62cd73a3"
   },
   "source": [
    "## CurveSGD Usage\n",
    "In this tutorial, we will simply use CurveSGD to optimize a simple function. See the other tutorial to see how to use CurveSGD to optimize neural networks:"
   ]
  },
  {
   "cell_type": "code",
   "execution_count": 9,
   "id": "c6f80fc4",
   "metadata": {
    "id": "c6f80fc4",
    "scrolled": false
   },
   "outputs": [],
   "source": [
    "def quadratic(tensor):\n",
    "    x, y = tensor\n",
    "    a = 1.0\n",
    "    b = 1.0\n",
    "    return (x ** 2) / a + (y ** 2) / b"
   ]
  },
  {
   "cell_type": "markdown",
   "id": "b0069329",
   "metadata": {
    "id": "b0069329"
   },
   "source": [
    "Let's see how to actually use CurveSGD in an optimization loop:"
   ]
  },
  {
   "cell_type": "code",
   "execution_count": 14,
   "id": "fa177ba1",
   "metadata": {
    "id": "fa177ba1"
   },
   "outputs": [
    {
     "data": {
      "image/png": "[encoded data removed]",
      "text/plain": [
       "<Figure size 432x288 with 1 Axes>"
      ]
     },
     "metadata": {
      "needs_background": "light"
     },
     "output_type": "display_data"
    }
   ],
   "source": [
    "iterations = 15000\n",
    "initial_state = (0.5, 0.5)\n",
    "min_loc = (0, 0)\n",
    "\n",
    "x = torch.Tensor(initial_state).requires_grad_(True)\n",
    "x_min = torch.Tensor(min_loc)\n",
    "optimizer = curve.CurveSGD([x], lr=.0015)\n",
    "fs = []\n",
    "for _ in range(iterations):\n",
    "    fs.append(quadratic(x))\n",
    "    def closure():\n",
    "        optimizer.zero_grad()\n",
    "        f = quadratic(x)\n",
    "        f.backward(retain_graph=True, create_graph=True)\n",
    "        return f\n",
    "    optimizer.step(closure)\n",
    "plt.plot(range(iterations), fs)\n",
    "plt.show()"
   ]
  },
  {
   "cell_type": "markdown",
   "id": "994a4581",
   "metadata": {
    "id": "994a4581"
   },
   "source": [
    "As mentioned towards the beginning of the tutorial, we have a chunk of code that is somewhat atypical of standard optimizers: the use of function closures. Generally, optimizers perform updates via: `optimizer.step()`. In this case, however, we have:\n",
    "\n",
    "```\n",
    "def closure():\n",
    "    optimizer.zero_grad()\n",
    "    f = quadratic(x)\n",
    "    f.backward(retain_graph=True, create_graph=True)\n",
    "    return f\n",
    "optimizer.step(closure)\n",
    "```\n",
    "\n",
    "With the reason being that we need the entire closure of the loss to access Hessian information within the optimization step. Other optimizers that require 2nd order information similarly make use of function closures, but they are less common than 1st order methods, which can get away with simply being invoked using `optimizer.step()`. \n",
    "\n",
    "And that's it! Notice that there is nothing different about the invocation of CurveSGD for optimization compared to other optimizers in the PyTorch library, with the exception of having to invoke the function closure for Hessian information. For full documentation, see the associated website or Sphinx pages."
   ]
  },
  {
   "cell_type": "code",
   "execution_count": null,
   "id": "2a540988",
   "metadata": {},
   "outputs": [],
   "source": []
  }
 ],
 "metadata": {
  "colab": {
   "include_colab_link": true,
   "name": "basic_tutorial.ipynb",
   "provenance": []
  },
  "kernelspec": {
   "display_name": "Python 3 (ipykernel)",
   "language": "python",
   "name": "python3"
  },
  "language_info": {
   "codemirror_mode": {
    "name": "ipython",
    "version": 3
   },
   "file_extension": ".py",
   "mimetype": "text/x-python",
   "name": "python",
   "nbconvert_exporter": "python",
   "pygments_lexer": "ipython3",
   "version": "3.8.12"
  }
 },
 "nbformat": 4,
 "nbformat_minor": 5
}
